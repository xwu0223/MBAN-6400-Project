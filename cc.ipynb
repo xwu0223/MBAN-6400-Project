{
 "cells": [
  {
   "cell_type": "markdown",
   "metadata": {},
   "source": [
    "# MBAN 6400 Group Project(Part A)"
   ]
  },
  {
   "cell_type": "code",
   "execution_count": 22,
   "metadata": {},
   "outputs": [],
   "source": [
    "# import necessary libraries\n",
    "import pandas as pd\n",
    "import numpy as np\n",
    "import matplotlib.pyplot as plt\n",
    "%matplotlib inline\n",
    "import seaborn as sns\n",
    "from sklearn.cluster import KMeans\n",
    "# from sklearn.decomposition import PCA\n",
    "from sklearn.preprocessing import MinMaxScaler, PowerTransformer\n",
    "from scipy.cluster.vq import whiten,vq,kmeans\n",
    "import seaborn as sns"
   ]
  },
  {
   "cell_type": "code",
   "execution_count": 46,
   "metadata": {},
   "outputs": [
    {
     "data": {
      "text/html": [
       "<div>\n",
       "<style scoped>\n",
       "    .dataframe tbody tr th:only-of-type {\n",
       "        vertical-align: middle;\n",
       "    }\n",
       "\n",
       "    .dataframe tbody tr th {\n",
       "        vertical-align: top;\n",
       "    }\n",
       "\n",
       "    .dataframe thead th {\n",
       "        text-align: right;\n",
       "    }\n",
       "</style>\n",
       "<table border=\"1\" class=\"dataframe\">\n",
       "  <thead>\n",
       "    <tr style=\"text-align: right;\">\n",
       "      <th></th>\n",
       "      <th>CUST_ID</th>\n",
       "      <th>BALANCE</th>\n",
       "      <th>BALANCE_FREQUENCY</th>\n",
       "      <th>PURCHASES</th>\n",
       "      <th>ONEOFF_PURCHASES</th>\n",
       "      <th>INSTALLMENTS_PURCHASES</th>\n",
       "      <th>CASH_ADVANCE</th>\n",
       "      <th>PURCHASES_FREQUENCY</th>\n",
       "      <th>ONEOFF_PURCHASES_FREQUENCY</th>\n",
       "      <th>PURCHASES_INSTALLMENTS_FREQUENCY</th>\n",
       "      <th>CASH_ADVANCE_FREQUENCY</th>\n",
       "      <th>CASH_ADVANCE_TRX</th>\n",
       "      <th>PURCHASES_TRX</th>\n",
       "      <th>CREDIT_LIMIT</th>\n",
       "      <th>PAYMENTS</th>\n",
       "      <th>MINIMUM_PAYMENTS</th>\n",
       "      <th>PRC_FULL_PAYMENT</th>\n",
       "      <th>TENURE</th>\n",
       "    </tr>\n",
       "  </thead>\n",
       "  <tbody>\n",
       "    <tr>\n",
       "      <th>0</th>\n",
       "      <td>C10001</td>\n",
       "      <td>40.90</td>\n",
       "      <td>0.82</td>\n",
       "      <td>95.40</td>\n",
       "      <td>0.00</td>\n",
       "      <td>95.4</td>\n",
       "      <td>0.00</td>\n",
       "      <td>0.17</td>\n",
       "      <td>0.00</td>\n",
       "      <td>0.08</td>\n",
       "      <td>0.00</td>\n",
       "      <td>0.0</td>\n",
       "      <td>2.0</td>\n",
       "      <td>1000.0</td>\n",
       "      <td>201.80</td>\n",
       "      <td>139.51</td>\n",
       "      <td>0.00</td>\n",
       "      <td>12.0</td>\n",
       "    </tr>\n",
       "    <tr>\n",
       "      <th>1</th>\n",
       "      <td>C10002</td>\n",
       "      <td>3202.47</td>\n",
       "      <td>0.91</td>\n",
       "      <td>0.00</td>\n",
       "      <td>0.00</td>\n",
       "      <td>0.0</td>\n",
       "      <td>6442.95</td>\n",
       "      <td>0.00</td>\n",
       "      <td>0.00</td>\n",
       "      <td>0.00</td>\n",
       "      <td>0.25</td>\n",
       "      <td>4.0</td>\n",
       "      <td>0.0</td>\n",
       "      <td>7000.0</td>\n",
       "      <td>4103.03</td>\n",
       "      <td>1072.34</td>\n",
       "      <td>0.22</td>\n",
       "      <td>12.0</td>\n",
       "    </tr>\n",
       "    <tr>\n",
       "      <th>2</th>\n",
       "      <td>C10003</td>\n",
       "      <td>2495.15</td>\n",
       "      <td>1.00</td>\n",
       "      <td>773.17</td>\n",
       "      <td>773.17</td>\n",
       "      <td>0.0</td>\n",
       "      <td>0.00</td>\n",
       "      <td>1.00</td>\n",
       "      <td>1.00</td>\n",
       "      <td>0.00</td>\n",
       "      <td>0.00</td>\n",
       "      <td>0.0</td>\n",
       "      <td>12.0</td>\n",
       "      <td>7500.0</td>\n",
       "      <td>622.07</td>\n",
       "      <td>627.28</td>\n",
       "      <td>0.00</td>\n",
       "      <td>12.0</td>\n",
       "    </tr>\n",
       "    <tr>\n",
       "      <th>3</th>\n",
       "      <td>C10004</td>\n",
       "      <td>1666.67</td>\n",
       "      <td>0.64</td>\n",
       "      <td>1499.00</td>\n",
       "      <td>1499.00</td>\n",
       "      <td>0.0</td>\n",
       "      <td>205.79</td>\n",
       "      <td>0.08</td>\n",
       "      <td>0.08</td>\n",
       "      <td>0.00</td>\n",
       "      <td>0.08</td>\n",
       "      <td>1.0</td>\n",
       "      <td>1.0</td>\n",
       "      <td>7500.0</td>\n",
       "      <td>0.00</td>\n",
       "      <td>NaN</td>\n",
       "      <td>0.00</td>\n",
       "      <td>12.0</td>\n",
       "    </tr>\n",
       "    <tr>\n",
       "      <th>4</th>\n",
       "      <td>C10005</td>\n",
       "      <td>817.71</td>\n",
       "      <td>1.00</td>\n",
       "      <td>16.00</td>\n",
       "      <td>16.00</td>\n",
       "      <td>0.0</td>\n",
       "      <td>0.00</td>\n",
       "      <td>0.08</td>\n",
       "      <td>0.08</td>\n",
       "      <td>0.00</td>\n",
       "      <td>0.00</td>\n",
       "      <td>0.0</td>\n",
       "      <td>1.0</td>\n",
       "      <td>1200.0</td>\n",
       "      <td>678.33</td>\n",
       "      <td>244.79</td>\n",
       "      <td>0.00</td>\n",
       "      <td>12.0</td>\n",
       "    </tr>\n",
       "  </tbody>\n",
       "</table>\n",
       "</div>"
      ],
      "text/plain": [
       "  CUST_ID  BALANCE  BALANCE_FREQUENCY  PURCHASES  ONEOFF_PURCHASES  \\\n",
       "0  C10001    40.90               0.82      95.40              0.00   \n",
       "1  C10002  3202.47               0.91       0.00              0.00   \n",
       "2  C10003  2495.15               1.00     773.17            773.17   \n",
       "3  C10004  1666.67               0.64    1499.00           1499.00   \n",
       "4  C10005   817.71               1.00      16.00             16.00   \n",
       "\n",
       "   INSTALLMENTS_PURCHASES  CASH_ADVANCE  PURCHASES_FREQUENCY  \\\n",
       "0                    95.4          0.00                 0.17   \n",
       "1                     0.0       6442.95                 0.00   \n",
       "2                     0.0          0.00                 1.00   \n",
       "3                     0.0        205.79                 0.08   \n",
       "4                     0.0          0.00                 0.08   \n",
       "\n",
       "   ONEOFF_PURCHASES_FREQUENCY  PURCHASES_INSTALLMENTS_FREQUENCY  \\\n",
       "0                        0.00                              0.08   \n",
       "1                        0.00                              0.00   \n",
       "2                        1.00                              0.00   \n",
       "3                        0.08                              0.00   \n",
       "4                        0.08                              0.00   \n",
       "\n",
       "   CASH_ADVANCE_FREQUENCY  CASH_ADVANCE_TRX  PURCHASES_TRX  CREDIT_LIMIT  \\\n",
       "0                    0.00               0.0            2.0        1000.0   \n",
       "1                    0.25               4.0            0.0        7000.0   \n",
       "2                    0.00               0.0           12.0        7500.0   \n",
       "3                    0.08               1.0            1.0        7500.0   \n",
       "4                    0.00               0.0            1.0        1200.0   \n",
       "\n",
       "   PAYMENTS  MINIMUM_PAYMENTS  PRC_FULL_PAYMENT  TENURE  \n",
       "0    201.80            139.51              0.00    12.0  \n",
       "1   4103.03           1072.34              0.22    12.0  \n",
       "2    622.07            627.28              0.00    12.0  \n",
       "3      0.00               NaN              0.00    12.0  \n",
       "4    678.33            244.79              0.00    12.0  "
      ]
     },
     "execution_count": 46,
     "metadata": {},
     "output_type": "execute_result"
    }
   ],
   "source": [
    "# read data\n",
    "cc_data = pd.read_csv('credit_card.csv')\n",
    "cc_data.head()"
   ]
  },
  {
   "cell_type": "code",
   "execution_count": 47,
   "metadata": {},
   "outputs": [
    {
     "name": "stdout",
     "output_type": "stream",
     "text": [
      "<class 'pandas.core.frame.DataFrame'>\n",
      "RangeIndex: 8950 entries, 0 to 8949\n",
      "Data columns (total 18 columns):\n",
      " #   Column                            Non-Null Count  Dtype  \n",
      "---  ------                            --------------  -----  \n",
      " 0   CUST_ID                           8950 non-null   object \n",
      " 1   BALANCE                           8950 non-null   float64\n",
      " 2   BALANCE_FREQUENCY                 8950 non-null   float64\n",
      " 3   PURCHASES                         8950 non-null   float64\n",
      " 4   ONEOFF_PURCHASES                  8950 non-null   float64\n",
      " 5   INSTALLMENTS_PURCHASES            8950 non-null   float64\n",
      " 6   CASH_ADVANCE                      8950 non-null   float64\n",
      " 7   PURCHASES_FREQUENCY               8950 non-null   float64\n",
      " 8   ONEOFF_PURCHASES_FREQUENCY        8950 non-null   float64\n",
      " 9   PURCHASES_INSTALLMENTS_FREQUENCY  8950 non-null   float64\n",
      " 10  CASH_ADVANCE_FREQUENCY            8950 non-null   float64\n",
      " 11  CASH_ADVANCE_TRX                  8950 non-null   float64\n",
      " 12  PURCHASES_TRX                     8950 non-null   float64\n",
      " 13  CREDIT_LIMIT                      8949 non-null   float64\n",
      " 14  PAYMENTS                          8950 non-null   float64\n",
      " 15  MINIMUM_PAYMENTS                  8637 non-null   float64\n",
      " 16  PRC_FULL_PAYMENT                  8950 non-null   float64\n",
      " 17  TENURE                            8950 non-null   float64\n",
      "dtypes: float64(17), object(1)\n",
      "memory usage: 1.2+ MB\n"
     ]
    }
   ],
   "source": [
    "cc_data.info()"
   ]
  },
  {
   "cell_type": "code",
   "execution_count": 48,
   "metadata": {},
   "outputs": [],
   "source": [
    "data = cc_data.copy()\n",
    "data['ONEOFFPURCHASES_total']=data['PURCHASES']-data['INSTALLMENTS_PURCHASES']\n"
   ]
  },
  {
   "cell_type": "code",
   "execution_count": 49,
   "metadata": {},
   "outputs": [
    {
     "data": {
      "text/plain": [
       "<matplotlib.collections.PathCollection at 0x145354fd0>"
      ]
     },
     "execution_count": 49,
     "metadata": {},
     "output_type": "execute_result"
    },
    {
     "data": {
      "image/png": "[encoded data removed]",
      "text/plain": [
       "<Figure size 432x288 with 1 Axes>"
      ]
     },
     "metadata": {
      "needs_background": "light"
     },
     "output_type": "display_data"
    }
   ],
   "source": [
    "plt.scatter(data.CASH_ADVANCE_TRX,data.CASH_ADVANCE_FREQUENCY)"
   ]
  },
  {
   "cell_type": "code",
   "execution_count": 50,
   "metadata": {},
   "outputs": [
    {
     "data": {
      "text/plain": [
       "<matplotlib.collections.PathCollection at 0x1450dc640>"
      ]
     },
     "execution_count": 50,
     "metadata": {},
     "output_type": "execute_result"
    },
    {
     "data": {
      "image/png": "[encoded data removed]",
      "text/plain": [
       "<Figure size 432x288 with 1 Axes>"
      ]
     },
     "metadata": {
      "needs_background": "light"
     },
     "output_type": "display_data"
    }
   ],
   "source": [
    "plt.scatter(data.PURCHASES_INSTALLMENTS_FREQUENCY,data.ONEOFF_PURCHASES_FREQUENCY+data.PURCHASES_INSTALLMENTS_FREQUENCY)"
   ]
  },
  {
   "cell_type": "code",
   "execution_count": 51,
   "metadata": {},
   "outputs": [
    {
     "data": {
      "text/plain": [
       "CUST_ID                               0\n",
       "BALANCE                               0\n",
       "BALANCE_FREQUENCY                     0\n",
       "PURCHASES                             0\n",
       "ONEOFF_PURCHASES                      0\n",
       "INSTALLMENTS_PURCHASES                0\n",
       "CASH_ADVANCE                          0\n",
       "PURCHASES_FREQUENCY                   0\n",
       "ONEOFF_PURCHASES_FREQUENCY            0\n",
       "PURCHASES_INSTALLMENTS_FREQUENCY      0\n",
       "CASH_ADVANCE_FREQUENCY                0\n",
       "CASH_ADVANCE_TRX                      0\n",
       "PURCHASES_TRX                         0\n",
       "CREDIT_LIMIT                          1\n",
       "PAYMENTS                              0\n",
       "MINIMUM_PAYMENTS                    313\n",
       "PRC_FULL_PAYMENT                      0\n",
       "TENURE                                0\n",
       "ONEOFFPURCHASES_total                 0\n",
       "dtype: int64"
      ]
     },
     "execution_count": 51,
     "metadata": {},
     "output_type": "execute_result"
    }
   ],
   "source": [
    "# nulll value check\n",
    "data.isna().sum()"
   ]
  },
  {
   "cell_type": "code",
   "execution_count": 52,
   "metadata": {},
   "outputs": [
    {
     "name": "stdout",
     "output_type": "stream",
     "text": [
      "<class 'pandas.core.frame.DataFrame'>\n",
      "RangeIndex: 8950 entries, 0 to 8949\n",
      "Data columns (total 19 columns):\n",
      " #   Column                            Non-Null Count  Dtype  \n",
      "---  ------                            --------------  -----  \n",
      " 0   CUST_ID                           8950 non-null   object \n",
      " 1   BALANCE                           8950 non-null   float64\n",
      " 2   BALANCE_FREQUENCY                 8950 non-null   float64\n",
      " 3   PURCHASES                         8950 non-null   float64\n",
      " 4   ONEOFF_PURCHASES                  8950 non-null   float64\n",
      " 5   INSTALLMENTS_PURCHASES            8950 non-null   float64\n",
      " 6   CASH_ADVANCE                      8950 non-null   float64\n",
      " 7   PURCHASES_FREQUENCY               8950 non-null   float64\n",
      " 8   ONEOFF_PURCHASES_FREQUENCY        8950 non-null   float64\n",
      " 9   PURCHASES_INSTALLMENTS_FREQUENCY  8950 non-null   float64\n",
      " 10  CASH_ADVANCE_FREQUENCY            8950 non-null   float64\n",
      " 11  CASH_ADVANCE_TRX                  8950 non-null   float64\n",
      " 12  PURCHASES_TRX                     8950 non-null   float64\n",
      " 13  CREDIT_LIMIT                      8949 non-null   float64\n",
      " 14  PAYMENTS                          8950 non-null   float64\n",
      " 15  MINIMUM_PAYMENTS                  8637 non-null   float64\n",
      " 16  PRC_FULL_PAYMENT                  8950 non-null   float64\n",
      " 17  TENURE                            8950 non-null   float64\n",
      " 18  ONEOFFPURCHASES_total             8950 non-null   float64\n",
      "dtypes: float64(18), object(1)\n",
      "memory usage: 1.3+ MB\n"
     ]
    }
   ],
   "source": [
    "# data information\n",
    "data.info()"
   ]
  },
  {
   "cell_type": "markdown",
   "metadata": {},
   "source": [
    "## Missing Value imputation"
   ]
  },
  {
   "cell_type": "code",
   "execution_count": 53,
   "metadata": {},
   "outputs": [],
   "source": [
    "# payments = 0 and MINIMUM_PAYMENTS = NaN, assign MINIMUM_PAYMENTS to 0, else assign to nan\n",
    "# drop the row where CREDIT_LIMIT is missing\n",
    "values = data[(data['PAYMENTS']==0)]['MINIMUM_PAYMENTS'].isna().map({False: np.nan, True: 0})\n",
    "data['MINIMUM_PAYMENTS'] = data['MINIMUM_PAYMENTS'].fillna(values)\n",
    "data = data.dropna(subset=['CREDIT_LIMIT'])"
   ]
  },
  {
   "cell_type": "code",
   "execution_count": 54,
   "metadata": {},
   "outputs": [],
   "source": [
    "# assign all other null value in MINIMUM_PAYMENTS as average value in the column\n",
    "data['MINIMUM_PAYMENTS'].fillna(data['MINIMUM_PAYMENTS'].median(),inplace=True)"
   ]
  },
  {
   "cell_type": "code",
   "execution_count": 55,
   "metadata": {},
   "outputs": [],
   "source": [
    "X = data.drop(columns = ['CUST_ID'])"
   ]
  },
  {
   "cell_type": "code",
   "execution_count": 56,
   "metadata": {},
   "outputs": [],
   "source": [
    "def outlier_percent(data):\n",
    "    Q1 = data.quantile(0.25)\n",
    "    Q3 = data.quantile(0.75)\n",
    "    IQR = Q3 - Q1\n",
    "    minimum = Q1 - (1.5 * IQR)\n",
    "    maximum = Q3 + (1.5 * IQR)\n",
    "    num_outliers =  np.sum((data < minimum) |(data > maximum))\n",
    "    num_total = data.count()\n",
    "    return (num_outliers/num_total)*100"
   ]
  },
  {
   "cell_type": "code",
   "execution_count": 57,
   "metadata": {},
   "outputs": [
    {
     "name": "stdout",
     "output_type": "stream",
     "text": [
      "Outliers in \"BALANCE\": 7.77%\n",
      "Outliers in \"BALANCE_FREQUENCY\": 16.67%\n",
      "Outliers in \"PURCHASES\": 9.03%\n",
      "Outliers in \"ONEOFF_PURCHASES\": 11.32%\n",
      "Outliers in \"INSTALLMENTS_PURCHASES\": 9.69%\n",
      "Outliers in \"CASH_ADVANCE\": 11.51%\n",
      "Outliers in \"PURCHASES_FREQUENCY\": 0.0%\n",
      "Outliers in \"ONEOFF_PURCHASES_FREQUENCY\": 8.74%\n",
      "Outliers in \"PURCHASES_INSTALLMENTS_FREQUENCY\": 0.0%\n",
      "Outliers in \"CASH_ADVANCE_FREQUENCY\": 5.87%\n",
      "Outliers in \"CASH_ADVANCE_TRX\": 8.98%\n",
      "Outliers in \"PURCHASES_TRX\": 8.56%\n",
      "Outliers in \"CREDIT_LIMIT\": 2.77%\n",
      "Outliers in \"PAYMENTS\": 9.03%\n",
      "Outliers in \"MINIMUM_PAYMENTS\": 10.07%\n",
      "Outliers in \"PRC_FULL_PAYMENT\": 16.47%\n",
      "Outliers in \"TENURE\": 15.25%\n",
      "Outliers in \"ONEOFFPURCHASES_total\": 11.35%\n"
     ]
    }
   ],
   "source": [
    "for column in X.columns:\n",
    "    data = X[column]\n",
    "    percent = str(round(outlier_percent(data), 2))\n",
    "    print(f'Outliers in \"{column}\": {percent}%')"
   ]
  },
  {
   "cell_type": "code",
   "execution_count": 58,
   "metadata": {},
   "outputs": [
    {
     "data": {
      "text/html": [
       "<div>\n",
       "<style scoped>\n",
       "    .dataframe tbody tr th:only-of-type {\n",
       "        vertical-align: middle;\n",
       "    }\n",
       "\n",
       "    .dataframe tbody tr th {\n",
       "        vertical-align: top;\n",
       "    }\n",
       "\n",
       "    .dataframe thead th {\n",
       "        text-align: right;\n",
       "    }\n",
       "</style>\n",
       "<table border=\"1\" class=\"dataframe\">\n",
       "  <thead>\n",
       "    <tr style=\"text-align: right;\">\n",
       "      <th></th>\n",
       "      <th>BALANCE</th>\n",
       "      <th>BALANCE_FREQUENCY</th>\n",
       "      <th>PURCHASES</th>\n",
       "      <th>ONEOFF_PURCHASES</th>\n",
       "      <th>INSTALLMENTS_PURCHASES</th>\n",
       "      <th>CASH_ADVANCE</th>\n",
       "      <th>PURCHASES_FREQUENCY</th>\n",
       "      <th>ONEOFF_PURCHASES_FREQUENCY</th>\n",
       "      <th>PURCHASES_INSTALLMENTS_FREQUENCY</th>\n",
       "      <th>CASH_ADVANCE_FREQUENCY</th>\n",
       "      <th>CASH_ADVANCE_TRX</th>\n",
       "      <th>PURCHASES_TRX</th>\n",
       "      <th>CREDIT_LIMIT</th>\n",
       "      <th>PAYMENTS</th>\n",
       "      <th>MINIMUM_PAYMENTS</th>\n",
       "      <th>PRC_FULL_PAYMENT</th>\n",
       "      <th>TENURE</th>\n",
       "      <th>ONEOFFPURCHASES_total</th>\n",
       "    </tr>\n",
       "  </thead>\n",
       "  <tbody>\n",
       "    <tr>\n",
       "      <th>count</th>\n",
       "      <td>8949.000000</td>\n",
       "      <td>8949.000000</td>\n",
       "      <td>8949.000000</td>\n",
       "      <td>8949.000000</td>\n",
       "      <td>8949.000000</td>\n",
       "      <td>8949.000000</td>\n",
       "      <td>8949.000000</td>\n",
       "      <td>8949.000000</td>\n",
       "      <td>8949.000000</td>\n",
       "      <td>8949.000000</td>\n",
       "      <td>8949.000000</td>\n",
       "      <td>8949.000000</td>\n",
       "      <td>8949.000000</td>\n",
       "      <td>8949.000000</td>\n",
       "      <td>8949.000000</td>\n",
       "      <td>8949.000000</td>\n",
       "      <td>8949.000000</td>\n",
       "      <td>8949.000000</td>\n",
       "    </tr>\n",
       "    <tr>\n",
       "      <th>mean</th>\n",
       "      <td>1564.647591</td>\n",
       "      <td>0.877527</td>\n",
       "      <td>1003.316936</td>\n",
       "      <td>592.503572</td>\n",
       "      <td>411.113579</td>\n",
       "      <td>978.959606</td>\n",
       "      <td>0.490316</td>\n",
       "      <td>0.202248</td>\n",
       "      <td>0.364611</td>\n",
       "      <td>0.134966</td>\n",
       "      <td>3.249078</td>\n",
       "      <td>14.711476</td>\n",
       "      <td>4494.449450</td>\n",
       "      <td>1733.336537</td>\n",
       "      <td>836.478091</td>\n",
       "      <td>0.153619</td>\n",
       "      <td>11.517935</td>\n",
       "      <td>592.203357</td>\n",
       "    </tr>\n",
       "    <tr>\n",
       "      <th>std</th>\n",
       "      <td>2081.583987</td>\n",
       "      <td>0.237019</td>\n",
       "      <td>2136.727848</td>\n",
       "      <td>1659.968851</td>\n",
       "      <td>904.378205</td>\n",
       "      <td>2097.264337</td>\n",
       "      <td>0.401637</td>\n",
       "      <td>0.298557</td>\n",
       "      <td>0.397631</td>\n",
       "      <td>0.200289</td>\n",
       "      <td>6.824987</td>\n",
       "      <td>24.858552</td>\n",
       "      <td>3638.815726</td>\n",
       "      <td>2895.168177</td>\n",
       "      <td>2335.396498</td>\n",
       "      <td>0.292671</td>\n",
       "      <td>1.337134</td>\n",
       "      <td>1660.077911</td>\n",
       "    </tr>\n",
       "    <tr>\n",
       "      <th>min</th>\n",
       "      <td>0.000000</td>\n",
       "      <td>0.000000</td>\n",
       "      <td>0.000000</td>\n",
       "      <td>0.000000</td>\n",
       "      <td>0.000000</td>\n",
       "      <td>0.000000</td>\n",
       "      <td>0.000000</td>\n",
       "      <td>0.000000</td>\n",
       "      <td>0.000000</td>\n",
       "      <td>0.000000</td>\n",
       "      <td>0.000000</td>\n",
       "      <td>0.000000</td>\n",
       "      <td>50.000000</td>\n",
       "      <td>0.000000</td>\n",
       "      <td>0.000000</td>\n",
       "      <td>0.000000</td>\n",
       "      <td>6.000000</td>\n",
       "      <td>-600.000000</td>\n",
       "    </tr>\n",
       "    <tr>\n",
       "      <th>25%</th>\n",
       "      <td>128.370000</td>\n",
       "      <td>0.890000</td>\n",
       "      <td>39.800000</td>\n",
       "      <td>0.000000</td>\n",
       "      <td>0.000000</td>\n",
       "      <td>0.000000</td>\n",
       "      <td>0.080000</td>\n",
       "      <td>0.000000</td>\n",
       "      <td>0.000000</td>\n",
       "      <td>0.000000</td>\n",
       "      <td>0.000000</td>\n",
       "      <td>1.000000</td>\n",
       "      <td>1600.000000</td>\n",
       "      <td>383.280000</td>\n",
       "      <td>164.690000</td>\n",
       "      <td>0.000000</td>\n",
       "      <td>12.000000</td>\n",
       "      <td>0.000000</td>\n",
       "    </tr>\n",
       "    <tr>\n",
       "      <th>50%</th>\n",
       "      <td>873.680000</td>\n",
       "      <td>1.000000</td>\n",
       "      <td>361.490000</td>\n",
       "      <td>38.000000</td>\n",
       "      <td>89.000000</td>\n",
       "      <td>0.000000</td>\n",
       "      <td>0.500000</td>\n",
       "      <td>0.080000</td>\n",
       "      <td>0.170000</td>\n",
       "      <td>0.000000</td>\n",
       "      <td>0.000000</td>\n",
       "      <td>7.000000</td>\n",
       "      <td>3000.000000</td>\n",
       "      <td>857.060000</td>\n",
       "      <td>294.585000</td>\n",
       "      <td>0.000000</td>\n",
       "      <td>12.000000</td>\n",
       "      <td>38.000000</td>\n",
       "    </tr>\n",
       "    <tr>\n",
       "      <th>75%</th>\n",
       "      <td>2054.370000</td>\n",
       "      <td>1.000000</td>\n",
       "      <td>1110.170000</td>\n",
       "      <td>577.830000</td>\n",
       "      <td>468.650000</td>\n",
       "      <td>1113.870000</td>\n",
       "      <td>0.920000</td>\n",
       "      <td>0.300000</td>\n",
       "      <td>0.750000</td>\n",
       "      <td>0.220000</td>\n",
       "      <td>4.000000</td>\n",
       "      <td>17.000000</td>\n",
       "      <td>6500.000000</td>\n",
       "      <td>1901.280000</td>\n",
       "      <td>788.720000</td>\n",
       "      <td>0.140000</td>\n",
       "      <td>12.000000</td>\n",
       "      <td>576.000000</td>\n",
       "    </tr>\n",
       "    <tr>\n",
       "      <th>max</th>\n",
       "      <td>19043.140000</td>\n",
       "      <td>1.000000</td>\n",
       "      <td>49039.570000</td>\n",
       "      <td>40761.250000</td>\n",
       "      <td>22500.000000</td>\n",
       "      <td>47137.210000</td>\n",
       "      <td>1.000000</td>\n",
       "      <td>1.000000</td>\n",
       "      <td>1.000000</td>\n",
       "      <td>1.500000</td>\n",
       "      <td>123.000000</td>\n",
       "      <td>358.000000</td>\n",
       "      <td>30000.000000</td>\n",
       "      <td>50721.480000</td>\n",
       "      <td>76406.210000</td>\n",
       "      <td>1.000000</td>\n",
       "      <td>12.000000</td>\n",
       "      <td>40761.250000</td>\n",
       "    </tr>\n",
       "  </tbody>\n",
       "</table>\n",
       "</div>"
      ],
      "text/plain": [
       "            BALANCE  BALANCE_FREQUENCY     PURCHASES  ONEOFF_PURCHASES  \\\n",
       "count   8949.000000        8949.000000   8949.000000       8949.000000   \n",
       "mean    1564.647591           0.877527   1003.316936        592.503572   \n",
       "std     2081.583987           0.237019   2136.727848       1659.968851   \n",
       "min        0.000000           0.000000      0.000000          0.000000   \n",
       "25%      128.370000           0.890000     39.800000          0.000000   \n",
       "50%      873.680000           1.000000    361.490000         38.000000   \n",
       "75%     2054.370000           1.000000   1110.170000        577.830000   \n",
       "max    19043.140000           1.000000  49039.570000      40761.250000   \n",
       "\n",
       "       INSTALLMENTS_PURCHASES  CASH_ADVANCE  PURCHASES_FREQUENCY  \\\n",
       "count             8949.000000   8949.000000          8949.000000   \n",
       "mean               411.113579    978.959606             0.490316   \n",
       "std                904.378205   2097.264337             0.401637   \n",
       "min                  0.000000      0.000000             0.000000   \n",
       "25%                  0.000000      0.000000             0.080000   \n",
       "50%                 89.000000      0.000000             0.500000   \n",
       "75%                468.650000   1113.870000             0.920000   \n",
       "max              22500.000000  47137.210000             1.000000   \n",
       "\n",
       "       ONEOFF_PURCHASES_FREQUENCY  PURCHASES_INSTALLMENTS_FREQUENCY  \\\n",
       "count                 8949.000000                       8949.000000   \n",
       "mean                     0.202248                          0.364611   \n",
       "std                      0.298557                          0.397631   \n",
       "min                      0.000000                          0.000000   \n",
       "25%                      0.000000                          0.000000   \n",
       "50%                      0.080000                          0.170000   \n",
       "75%                      0.300000                          0.750000   \n",
       "max                      1.000000                          1.000000   \n",
       "\n",
       "       CASH_ADVANCE_FREQUENCY  CASH_ADVANCE_TRX  PURCHASES_TRX  CREDIT_LIMIT  \\\n",
       "count             8949.000000       8949.000000    8949.000000   8949.000000   \n",
       "mean                 0.134966          3.249078      14.711476   4494.449450   \n",
       "std                  0.200289          6.824987      24.858552   3638.815726   \n",
       "min                  0.000000          0.000000       0.000000     50.000000   \n",
       "25%                  0.000000          0.000000       1.000000   1600.000000   \n",
       "50%                  0.000000          0.000000       7.000000   3000.000000   \n",
       "75%                  0.220000          4.000000      17.000000   6500.000000   \n",
       "max                  1.500000        123.000000     358.000000  30000.000000   \n",
       "\n",
       "           PAYMENTS  MINIMUM_PAYMENTS  PRC_FULL_PAYMENT       TENURE  \\\n",
       "count   8949.000000       8949.000000       8949.000000  8949.000000   \n",
       "mean    1733.336537        836.478091          0.153619    11.517935   \n",
       "std     2895.168177       2335.396498          0.292671     1.337134   \n",
       "min        0.000000          0.000000          0.000000     6.000000   \n",
       "25%      383.280000        164.690000          0.000000    12.000000   \n",
       "50%      857.060000        294.585000          0.000000    12.000000   \n",
       "75%     1901.280000        788.720000          0.140000    12.000000   \n",
       "max    50721.480000      76406.210000          1.000000    12.000000   \n",
       "\n",
       "       ONEOFFPURCHASES_total  \n",
       "count            8949.000000  \n",
       "mean              592.203357  \n",
       "std              1660.077911  \n",
       "min              -600.000000  \n",
       "25%                 0.000000  \n",
       "50%                38.000000  \n",
       "75%               576.000000  \n",
       "max             40761.250000  "
      ]
     },
     "execution_count": 58,
     "metadata": {},
     "output_type": "execute_result"
    }
   ],
   "source": [
    "X.describe()"
   ]
  },
  {
   "cell_type": "code",
   "execution_count": 59,
   "metadata": {},
   "outputs": [],
   "source": [
    "# rescale each feature dimension of the observation set by its standard deviation\n",
    "scaled_X = pd.DataFrame(whiten(X), columns = X.columns)\n",
    "pt = PowerTransformer()\n",
    "transformed_data = pd.DataFrame(pt.fit_transform(scaled_X), columns = X.columns)"
   ]
  },
  {
   "cell_type": "code",
   "execution_count": 60,
   "metadata": {},
   "outputs": [
    {
     "data": {
      "text/html": [
       "<div>\n",
       "<style scoped>\n",
       "    .dataframe tbody tr th:only-of-type {\n",
       "        vertical-align: middle;\n",
       "    }\n",
       "\n",
       "    .dataframe tbody tr th {\n",
       "        vertical-align: top;\n",
       "    }\n",
       "\n",
       "    .dataframe thead th {\n",
       "        text-align: right;\n",
       "    }\n",
       "</style>\n",
       "<table border=\"1\" class=\"dataframe\">\n",
       "  <thead>\n",
       "    <tr style=\"text-align: right;\">\n",
       "      <th></th>\n",
       "      <th>BALANCE</th>\n",
       "      <th>BALANCE_FREQUENCY</th>\n",
       "      <th>PURCHASES</th>\n",
       "      <th>ONEOFF_PURCHASES</th>\n",
       "      <th>INSTALLMENTS_PURCHASES</th>\n",
       "      <th>CASH_ADVANCE</th>\n",
       "      <th>PURCHASES_FREQUENCY</th>\n",
       "      <th>ONEOFF_PURCHASES_FREQUENCY</th>\n",
       "      <th>PURCHASES_INSTALLMENTS_FREQUENCY</th>\n",
       "      <th>CASH_ADVANCE_FREQUENCY</th>\n",
       "      <th>CASH_ADVANCE_TRX</th>\n",
       "      <th>PURCHASES_TRX</th>\n",
       "      <th>CREDIT_LIMIT</th>\n",
       "      <th>PAYMENTS</th>\n",
       "      <th>MINIMUM_PAYMENTS</th>\n",
       "      <th>PRC_FULL_PAYMENT</th>\n",
       "      <th>TENURE</th>\n",
       "      <th>ONEOFFPURCHASES_total</th>\n",
       "    </tr>\n",
       "  </thead>\n",
       "  <tbody>\n",
       "    <tr>\n",
       "      <th>count</th>\n",
       "      <td>8.949000e+03</td>\n",
       "      <td>8.949000e+03</td>\n",
       "      <td>8.949000e+03</td>\n",
       "      <td>8.949000e+03</td>\n",
       "      <td>8.949000e+03</td>\n",
       "      <td>8.949000e+03</td>\n",
       "      <td>8.949000e+03</td>\n",
       "      <td>8.949000e+03</td>\n",
       "      <td>8.949000e+03</td>\n",
       "      <td>8.949000e+03</td>\n",
       "      <td>8.949000e+03</td>\n",
       "      <td>8.949000e+03</td>\n",
       "      <td>8.949000e+03</td>\n",
       "      <td>8.949000e+03</td>\n",
       "      <td>8.949000e+03</td>\n",
       "      <td>8.949000e+03</td>\n",
       "      <td>8.949000e+03</td>\n",
       "      <td>8.949000e+03</td>\n",
       "    </tr>\n",
       "    <tr>\n",
       "      <th>mean</th>\n",
       "      <td>6.987123e-17</td>\n",
       "      <td>-5.970814e-16</td>\n",
       "      <td>2.223175e-16</td>\n",
       "      <td>-6.987123e-17</td>\n",
       "      <td>1.095708e-16</td>\n",
       "      <td>2.381974e-17</td>\n",
       "      <td>1.984978e-17</td>\n",
       "      <td>-1.842060e-16</td>\n",
       "      <td>-2.064377e-17</td>\n",
       "      <td>5.954934e-17</td>\n",
       "      <td>4.446351e-17</td>\n",
       "      <td>1.302146e-16</td>\n",
       "      <td>-3.811158e-16</td>\n",
       "      <td>8.257509e-17</td>\n",
       "      <td>1.651502e-16</td>\n",
       "      <td>-1.715021e-16</td>\n",
       "      <td>7.622316e-17</td>\n",
       "      <td>1.270386e-16</td>\n",
       "    </tr>\n",
       "    <tr>\n",
       "      <th>std</th>\n",
       "      <td>1.000056e+00</td>\n",
       "      <td>1.000056e+00</td>\n",
       "      <td>1.000056e+00</td>\n",
       "      <td>1.000056e+00</td>\n",
       "      <td>1.000056e+00</td>\n",
       "      <td>1.000056e+00</td>\n",
       "      <td>1.000056e+00</td>\n",
       "      <td>1.000056e+00</td>\n",
       "      <td>1.000056e+00</td>\n",
       "      <td>1.000056e+00</td>\n",
       "      <td>1.000056e+00</td>\n",
       "      <td>1.000056e+00</td>\n",
       "      <td>1.000056e+00</td>\n",
       "      <td>1.000056e+00</td>\n",
       "      <td>1.000056e+00</td>\n",
       "      <td>1.000056e+00</td>\n",
       "      <td>1.000056e+00</td>\n",
       "      <td>1.000056e+00</td>\n",
       "    </tr>\n",
       "    <tr>\n",
       "      <th>min</th>\n",
       "      <td>-1.289758e+00</td>\n",
       "      <td>-2.069730e+00</td>\n",
       "      <td>-1.137952e+00</td>\n",
       "      <td>-8.278035e-01</td>\n",
       "      <td>-9.295894e-01</td>\n",
       "      <td>-8.048223e-01</td>\n",
       "      <td>-1.311984e+00</td>\n",
       "      <td>-9.277662e-01</td>\n",
       "      <td>-1.021050e+00</td>\n",
       "      <td>-9.034555e-01</td>\n",
       "      <td>-8.589017e-01</td>\n",
       "      <td>-1.204238e+00</td>\n",
       "      <td>-2.381542e+00</td>\n",
       "      <td>-1.670866e+00</td>\n",
       "      <td>-1.547519e+00</td>\n",
       "      <td>-6.907014e-01</td>\n",
       "      <td>-2.525538e+00</td>\n",
       "      <td>-7.962058e+00</td>\n",
       "    </tr>\n",
       "    <tr>\n",
       "      <th>25%</th>\n",
       "      <td>-1.025225e+00</td>\n",
       "      <td>-4.910255e-01</td>\n",
       "      <td>-1.005020e+00</td>\n",
       "      <td>-8.278035e-01</td>\n",
       "      <td>-9.295894e-01</td>\n",
       "      <td>-8.048223e-01</td>\n",
       "      <td>-1.018097e+00</td>\n",
       "      <td>-9.277662e-01</td>\n",
       "      <td>-1.021050e+00</td>\n",
       "      <td>-9.034555e-01</td>\n",
       "      <td>-8.589017e-01</td>\n",
       "      <td>-9.862116e-01</td>\n",
       "      <td>-9.400932e-01</td>\n",
       "      <td>-8.286119e-01</td>\n",
       "      <td>-7.699236e-01</td>\n",
       "      <td>-6.907014e-01</td>\n",
       "      <td>4.221480e-01</td>\n",
       "      <td>-8.174961e-01</td>\n",
       "    </tr>\n",
       "    <tr>\n",
       "      <th>50%</th>\n",
       "      <td>9.196376e-03</td>\n",
       "      <td>6.193773e-01</td>\n",
       "      <td>-1.726304e-01</td>\n",
       "      <td>-6.233160e-01</td>\n",
       "      <td>-3.437986e-01</td>\n",
       "      <td>-8.048223e-01</td>\n",
       "      <td>1.686180e-01</td>\n",
       "      <td>-1.506798e-02</td>\n",
       "      <td>-1.842911e-01</td>\n",
       "      <td>-9.034555e-01</td>\n",
       "      <td>-8.589017e-01</td>\n",
       "      <td>-4.600143e-02</td>\n",
       "      <td>-1.745980e-01</td>\n",
       "      <td>-1.214885e-01</td>\n",
       "      <td>-3.015891e-01</td>\n",
       "      <td>-6.907014e-01</td>\n",
       "      <td>4.221480e-01</td>\n",
       "      <td>-6.178700e-01</td>\n",
       "    </tr>\n",
       "    <tr>\n",
       "      <th>75%</th>\n",
       "      <td>8.150329e-01</td>\n",
       "      <td>6.193773e-01</td>\n",
       "      <td>8.358044e-01</td>\n",
       "      <td>9.340043e-01</td>\n",
       "      <td>9.051805e-01</td>\n",
       "      <td>1.018259e+00</td>\n",
       "      <td>1.045145e+00</td>\n",
       "      <td>1.005341e+00</td>\n",
       "      <td>1.066519e+00</td>\n",
       "      <td>1.035775e+00</td>\n",
       "      <td>1.008208e+00</td>\n",
       "      <td>7.761047e-01</td>\n",
       "      <td>8.761312e-01</td>\n",
       "      <td>7.660691e-01</td>\n",
       "      <td>7.885957e-01</td>\n",
       "      <td>9.796839e-01</td>\n",
       "      <td>4.221480e-01</td>\n",
       "      <td>9.169831e-01</td>\n",
       "    </tr>\n",
       "    <tr>\n",
       "      <th>max</th>\n",
       "      <td>2.140364e+00</td>\n",
       "      <td>6.193773e-01</td>\n",
       "      <td>2.046087e+00</td>\n",
       "      <td>1.936805e+00</td>\n",
       "      <td>1.958815e+00</td>\n",
       "      <td>1.864344e+00</td>\n",
       "      <td>1.191579e+00</td>\n",
       "      <td>1.669066e+00</td>\n",
       "      <td>1.339984e+00</td>\n",
       "      <td>1.881126e+00</td>\n",
       "      <td>1.899249e+00</td>\n",
       "      <td>2.146748e+00</td>\n",
       "      <td>2.471178e+00</td>\n",
       "      <td>2.166472e+00</td>\n",
       "      <td>2.095241e+00</td>\n",
       "      <td>1.795082e+00</td>\n",
       "      <td>4.221480e-01</td>\n",
       "      <td>1.950673e+00</td>\n",
       "    </tr>\n",
       "  </tbody>\n",
       "</table>\n",
       "</div>"
      ],
      "text/plain": [
       "            BALANCE  BALANCE_FREQUENCY     PURCHASES  ONEOFF_PURCHASES  \\\n",
       "count  8.949000e+03       8.949000e+03  8.949000e+03      8.949000e+03   \n",
       "mean   6.987123e-17      -5.970814e-16  2.223175e-16     -6.987123e-17   \n",
       "std    1.000056e+00       1.000056e+00  1.000056e+00      1.000056e+00   \n",
       "min   -1.289758e+00      -2.069730e+00 -1.137952e+00     -8.278035e-01   \n",
       "25%   -1.025225e+00      -4.910255e-01 -1.005020e+00     -8.278035e-01   \n",
       "50%    9.196376e-03       6.193773e-01 -1.726304e-01     -6.233160e-01   \n",
       "75%    8.150329e-01       6.193773e-01  8.358044e-01      9.340043e-01   \n",
       "max    2.140364e+00       6.193773e-01  2.046087e+00      1.936805e+00   \n",
       "\n",
       "       INSTALLMENTS_PURCHASES  CASH_ADVANCE  PURCHASES_FREQUENCY  \\\n",
       "count            8.949000e+03  8.949000e+03         8.949000e+03   \n",
       "mean             1.095708e-16  2.381974e-17         1.984978e-17   \n",
       "std              1.000056e+00  1.000056e+00         1.000056e+00   \n",
       "min             -9.295894e-01 -8.048223e-01        -1.311984e+00   \n",
       "25%             -9.295894e-01 -8.048223e-01        -1.018097e+00   \n",
       "50%             -3.437986e-01 -8.048223e-01         1.686180e-01   \n",
       "75%              9.051805e-01  1.018259e+00         1.045145e+00   \n",
       "max              1.958815e+00  1.864344e+00         1.191579e+00   \n",
       "\n",
       "       ONEOFF_PURCHASES_FREQUENCY  PURCHASES_INSTALLMENTS_FREQUENCY  \\\n",
       "count                8.949000e+03                      8.949000e+03   \n",
       "mean                -1.842060e-16                     -2.064377e-17   \n",
       "std                  1.000056e+00                      1.000056e+00   \n",
       "min                 -9.277662e-01                     -1.021050e+00   \n",
       "25%                 -9.277662e-01                     -1.021050e+00   \n",
       "50%                 -1.506798e-02                     -1.842911e-01   \n",
       "75%                  1.005341e+00                      1.066519e+00   \n",
       "max                  1.669066e+00                      1.339984e+00   \n",
       "\n",
       "       CASH_ADVANCE_FREQUENCY  CASH_ADVANCE_TRX  PURCHASES_TRX  CREDIT_LIMIT  \\\n",
       "count            8.949000e+03      8.949000e+03   8.949000e+03  8.949000e+03   \n",
       "mean             5.954934e-17      4.446351e-17   1.302146e-16 -3.811158e-16   \n",
       "std              1.000056e+00      1.000056e+00   1.000056e+00  1.000056e+00   \n",
       "min             -9.034555e-01     -8.589017e-01  -1.204238e+00 -2.381542e+00   \n",
       "25%             -9.034555e-01     -8.589017e-01  -9.862116e-01 -9.400932e-01   \n",
       "50%             -9.034555e-01     -8.589017e-01  -4.600143e-02 -1.745980e-01   \n",
       "75%              1.035775e+00      1.008208e+00   7.761047e-01  8.761312e-01   \n",
       "max              1.881126e+00      1.899249e+00   2.146748e+00  2.471178e+00   \n",
       "\n",
       "           PAYMENTS  MINIMUM_PAYMENTS  PRC_FULL_PAYMENT        TENURE  \\\n",
       "count  8.949000e+03      8.949000e+03      8.949000e+03  8.949000e+03   \n",
       "mean   8.257509e-17      1.651502e-16     -1.715021e-16  7.622316e-17   \n",
       "std    1.000056e+00      1.000056e+00      1.000056e+00  1.000056e+00   \n",
       "min   -1.670866e+00     -1.547519e+00     -6.907014e-01 -2.525538e+00   \n",
       "25%   -8.286119e-01     -7.699236e-01     -6.907014e-01  4.221480e-01   \n",
       "50%   -1.214885e-01     -3.015891e-01     -6.907014e-01  4.221480e-01   \n",
       "75%    7.660691e-01      7.885957e-01      9.796839e-01  4.221480e-01   \n",
       "max    2.166472e+00      2.095241e+00      1.795082e+00  4.221480e-01   \n",
       "\n",
       "       ONEOFFPURCHASES_total  \n",
       "count           8.949000e+03  \n",
       "mean            1.270386e-16  \n",
       "std             1.000056e+00  \n",
       "min            -7.962058e+00  \n",
       "25%            -8.174961e-01  \n",
       "50%            -6.178700e-01  \n",
       "75%             9.169831e-01  \n",
       "max             1.950673e+00  "
      ]
     },
     "execution_count": 60,
     "metadata": {},
     "output_type": "execute_result"
    }
   ],
   "source": [
    "transformed_data.describe()"
   ]
  },
  {
   "cell_type": "code",
   "execution_count": 61,
   "metadata": {},
   "outputs": [
    {
     "name": "stdout",
     "output_type": "stream",
     "text": [
      "Outliers in \"BALANCE\": 0.0%\n",
      "Outliers in \"BALANCE_FREQUENCY\": 0.0%\n",
      "Outliers in \"PURCHASES\": 0.0%\n",
      "Outliers in \"ONEOFF_PURCHASES\": 0.0%\n",
      "Outliers in \"INSTALLMENTS_PURCHASES\": 0.0%\n",
      "Outliers in \"CASH_ADVANCE\": 0.0%\n",
      "Outliers in \"PURCHASES_FREQUENCY\": 0.0%\n",
      "Outliers in \"ONEOFF_PURCHASES_FREQUENCY\": 0.0%\n",
      "Outliers in \"PURCHASES_INSTALLMENTS_FREQUENCY\": 0.0%\n",
      "Outliers in \"CASH_ADVANCE_FREQUENCY\": 0.0%\n",
      "Outliers in \"CASH_ADVANCE_TRX\": 0.0%\n",
      "Outliers in \"PURCHASES_TRX\": 0.0%\n",
      "Outliers in \"CREDIT_LIMIT\": 0.0%\n",
      "Outliers in \"PAYMENTS\": 0.0%\n",
      "Outliers in \"MINIMUM_PAYMENTS\": 0.0%\n",
      "Outliers in \"PRC_FULL_PAYMENT\": 0.0%\n",
      "Outliers in \"TENURE\": 15.25%\n",
      "Outliers in \"ONEOFFPURCHASES_total\": 0.02%\n"
     ]
    }
   ],
   "source": [
    "for column in transformed_data.columns:\n",
    "    data = transformed_data[column]\n",
    "    percent = str(round(outlier_percent(data), 2))\n",
    "    print(f'Outliers in \"{column}\": {percent}%')"
   ]
  },
  {
   "cell_type": "code",
   "execution_count": 39,
   "metadata": {},
   "outputs": [
    {
     "data": {
      "text/plain": [
       "(array([1000.,    0.,  365.,    0.,    0.,    0.,    0.,    0.,    0.,\n",
       "        7584.]),\n",
       " array([-2.52553752, -2.23076898, -1.93600043, -1.64123188, -1.34646333,\n",
       "        -1.05169479, -0.75692624, -0.46215769, -0.16738914,  0.1273794 ,\n",
       "         0.42214795]),\n",
       " <BarContainer object of 10 artists>)"
      ]
     },
     "execution_count": 39,
     "metadata": {},
     "output_type": "execute_result"
    },
    {
     "data": {
      "image/png": "[encoded data removed]",
      "text/plain": [
       "<Figure size 432x288 with 1 Axes>"
      ]
     },
     "metadata": {
      "needs_background": "light"
     },
     "output_type": "display_data"
    }
   ],
   "source": [
    "plt.hist(transformed_data.TENURE)"
   ]
  },
  {
   "cell_type": "code",
   "execution_count": 63,
   "metadata": {},
   "outputs": [],
   "source": [
    "transformed_data= transformed_data.drop(columns='TENURE')"
   ]
  },
  {
   "cell_type": "code",
   "execution_count": 65,
   "metadata": {},
   "outputs": [
    {
     "data": {
      "text/plain": [
       "Index(['BALANCE', 'BALANCE_FREQUENCY', 'PURCHASES', 'ONEOFF_PURCHASES',\n",
       "       'INSTALLMENTS_PURCHASES', 'CASH_ADVANCE', 'PURCHASES_FREQUENCY',\n",
       "       'ONEOFF_PURCHASES_FREQUENCY', 'PURCHASES_INSTALLMENTS_FREQUENCY',\n",
       "       'CASH_ADVANCE_FREQUENCY', 'CASH_ADVANCE_TRX', 'PURCHASES_TRX',\n",
       "       'CREDIT_LIMIT', 'PAYMENTS', 'MINIMUM_PAYMENTS', 'PRC_FULL_PAYMENT',\n",
       "       'ONEOFFPURCHASES_total'],\n",
       "      dtype='object')"
      ]
     },
     "execution_count": 65,
     "metadata": {},
     "output_type": "execute_result"
    }
   ],
   "source": [
    "transformed_data.columns"
   ]
  },
  {
   "cell_type": "markdown",
   "metadata": {},
   "source": [
    "## Clustering"
   ]
  },
  {
   "cell_type": "markdown",
   "metadata": {},
   "source": [
    "### K-means Clustering"
   ]
  },
  {
   "cell_type": "code",
   "execution_count": 66,
   "metadata": {},
   "outputs": [
    {
     "data": {
      "image/png": "[encoded data removed]",
      "text/plain": [
       "<Figure size 432x288 with 1 Axes>"
      ]
     },
     "metadata": {
      "needs_background": "light"
     },
     "output_type": "display_data"
    }
   ],
   "source": [
    "kmeans_models = [KMeans(n_clusters=k, random_state=23).fit(transformed_data) for k in range (1, 10)]\n",
    "innertia = [model.inertia_ for model in kmeans_models]\n",
    "\n",
    "plt.plot(range(1, 10), innertia)\n",
    "plt.title('Elbow method')\n",
    "plt.xlabel('Number of Clusters')\n",
    "plt.ylabel('WCSS')\n",
    "plt.show()\n"
   ]
  },
  {
   "cell_type": "code",
   "execution_count": 67,
   "metadata": {},
   "outputs": [],
   "source": [
    "centroids,_ = kmeans(transformed_data, 4)\n",
    "transformed_data['cluster_labels'], _ = vq(transformed_data, centroids)"
   ]
  },
  {
   "cell_type": "code",
   "execution_count": 68,
   "metadata": {},
   "outputs": [
    {
     "name": "stdout",
     "output_type": "stream",
     "text": [
      "cluster_labels     0     1     2     3\n",
      "cluster_labels                        \n",
      "0               2657     0     0     0\n",
      "1                  0  1738     0     0\n",
      "2                  0     0  2112     0\n",
      "3                  0     0     0  2442\n"
     ]
    }
   ],
   "source": [
    "cross_tab = pd.crosstab(transformed_data['cluster_labels'],transformed_data['cluster_labels'])\n",
    "print(cross_tab)"
   ]
  },
  {
   "cell_type": "code",
   "execution_count": 69,
   "metadata": {},
   "outputs": [
    {
     "name": "stdout",
     "output_type": "stream",
     "text": [
      "cluster_labels     0     1     2\n",
      "cluster_labels                  \n",
      "0               2526     0     0\n",
      "1                  0  3415     0\n",
      "2                  0     0  3008\n"
     ]
    }
   ],
   "source": [
    "centroids,_ = kmeans(transformed_data, 3)\n",
    "transformed_data['cluster_labels'], _ = vq(transformed_data, centroids)\n",
    "cross_tab = pd.crosstab(transformed_data['cluster_labels'],transformed_data['cluster_labels'])\n",
    "print(cross_tab)"
   ]
  },
  {
   "cell_type": "code",
   "execution_count": 70,
   "metadata": {},
   "outputs": [
    {
     "name": "stdout",
     "output_type": "stream",
     "text": [
      "cluster_labels     0     1     2     3     4\n",
      "cluster_labels                              \n",
      "0               1557     0     0     0     0\n",
      "1                  0  2549     0     0     0\n",
      "2                  0     0  2014     0     0\n",
      "3                  0     0     0  1082     0\n",
      "4                  0     0     0     0  1747\n"
     ]
    }
   ],
   "source": [
    "centroids,_ = kmeans(transformed_data, 5)\n",
    "transformed_data['cluster_labels'], _ = vq(transformed_data, centroids)\n",
    "cross_tab = pd.crosstab(transformed_data['cluster_labels'],transformed_data['cluster_labels'])\n",
    "print(cross_tab)"
   ]
  }
 ],
 "metadata": {
  "interpreter": {
   "hash": "6131a6c53236501bcbd93c7d31595c707a36edab99a1bddee2d083c33bcb6550"
  },
  "kernelspec": {
   "display_name": "Python 3.8.12 64-bit (conda)",
   "language": "python",
   "name": "python3"
  },
  "language_info": {
   "codemirror_mode": {
    "name": "ipython",
    "version": 3
   },
   "file_extension": ".py",
   "mimetype": "text/x-python",
   "name": "python",
   "nbconvert_exporter": "python",
   "pygments_lexer": "ipython3",
   "version": "3.8.12"
  },
  "orig_nbformat": 4
 },
 "nbformat": 4,
 "nbformat_minor": 2
}
