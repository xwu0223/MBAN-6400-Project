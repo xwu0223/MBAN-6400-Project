{
 "cells": [
  {
   "cell_type": "code",
   "execution_count": null,
   "metadata": {},
   "outputs": [],
   "source": [
    "# KMeans Model\n",
    "kmeans_models = [KMeans(n_clusters=k, random_state=23).fit(transformed_data) for k in range (1, 10)]\n",
    "innertia = [model.inertia_ for model in kmeans_models]\n",
    "\n",
    "plt.plot(range(1, 10), innertia)\n",
    "plt.title('Elbow method')\n",
    "plt.xlabel('Number of Clusters')\n",
    "plt.ylabel('WCSS')\n",
    "plt.show()\n",
    "\n",
    "# Three Clusters\n",
    "centroids,_ = kmeans(transformed_data, 3)\n",
    "transformed_data['cluster_labels'], _ = vq(transformed_data, centroids)\n",
    "cross_tab_3 = pd.crosstab(transformed_data['cluster_labels'],transformed_data['cluster_labels'])\n",
    "print(cross_tab_3)\n",
    "\n",
    "# Four clusters\n",
    "centroids,_ = kmeans(transformed_data, 4)\n",
    "transformed_data['cluster_labels'], _ = vq(transformed_data, centroids)\n",
    "cross_tab_4 = pd.crosstab(transformed_data['cluster_labels'],transformed_data['cluster_labels'])\n",
    "print(cross_tab_4)\n",
    "\n",
    "centroids,_ = kmeans(transformed_data, 5)\n",
    "transformed_data['cluster_labels'], _ = vq(transformed_data, centroids)\n",
    "cross_tab_5 = pd.crosstab(transformed_data['cluster_labels'],transformed_data['cluster_labels'])\n",
    "print(cross_tab_5)"
   ]
  }
 ],
 "metadata": {
  "language_info": {
   "name": "python"
  },
  "orig_nbformat": 4
 },
 "nbformat": 4,
 "nbformat_minor": 2
}
